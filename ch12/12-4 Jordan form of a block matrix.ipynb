{
 "cells": [
  {
   "cell_type": "markdown",
   "metadata": {},
   "source": [
    "### 12-4 Jordan form of a block Matrix\n",
    "\n",
    "We consider the block 2 × 2 matrix\n",
    "$$\n",
    "C = [[A,I],[0,A]]\n",
    "$$\n",
    "Here A ∈ R n×n , and is diagonalizable, with real, distinct eigenvalues λ 1 , . . . , λ n . We’ll let v 1 , . . . , v n\n",
    "denote (independent) eigenvectors of A associated with λ 1 , . . . , λ n .\n",
    "(a) Find the Jordan form J of C. Be sure to explicitly describe its block sizes.\n",
    "(b) Find a matrix T such that J = T −1 CT ."
   ]
  },
  {
   "cell_type": "code",
   "execution_count": null,
   "metadata": {
    "collapsed": true
   },
   "outputs": [],
   "source": []
  }
 ],
 "metadata": {
  "kernelspec": {
   "display_name": "Python 3",
   "language": "python",
   "name": "python3"
  },
  "language_info": {
   "codemirror_mode": {
    "name": "ipython",
    "version": 3
   },
   "file_extension": ".py",
   "mimetype": "text/x-python",
   "name": "python",
   "nbconvert_exporter": "python",
   "pygments_lexer": "ipython3",
   "version": "3.6.3"
  }
 },
 "nbformat": 4,
 "nbformat_minor": 2
}
