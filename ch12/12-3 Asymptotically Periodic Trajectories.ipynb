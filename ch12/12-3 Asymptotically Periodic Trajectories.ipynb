{
 "cells": [
  {
   "cell_type": "markdown",
   "metadata": {},
   "source": [
    "### 12-3 Asymptotically Periodic trajectories\n",
    "\n",
    "We say that x : $R_+ → R^n$ is asymptotically T-periodic if ||x(t +\n",
    "T ) − x(t)|| converges to 0 as t → ∞. (We assume T > 0 is fixed.) Now consider the (time-invariant)\n",
    "linear dynamical system ẋ = Ax, where $A ∈ R^{n×n}$ . Describe the precise conditions on A under which\n",
    "all trajectories of ẋ = Ax are asymptotically T -periodic. Give your answer in terms of the Jordan form\n",
    "of A. (The period T can appear in your answer.) Make sure your answer works for ‘silly’ cases like\n",
    "A = 0 (for which all trajectories are constant, hence asymptotically T -periodic), or stable systems (for\n",
    "which all trajectories converge to 0, hence are asymptotically T -periodic). Mark your answer clearly,\n",
    "to isolate it from any (brief) discussion or explanation. You do not need to formally prove your answer;\n",
    "a brief explanation will suffice"
   ]
  },
  {
   "cell_type": "markdown",
   "metadata": {
    "collapsed": true
   },
   "source": [
    " In summary, the precise conditions on A are: <br\\>\n",
    "• all eigenvalues must satisfy R(λi ) ≤ 0. <br\\>\n",
    "• and if R(λi) = 0, then the associated Jordan block must have size 1, and λ must have the form\n",
    "λ = j2mπ/T for some m ∈ Z.\n"
   ]
  },
  {
   "cell_type": "code",
   "execution_count": null,
   "metadata": {
    "collapsed": true
   },
   "outputs": [],
   "source": []
  }
 ],
 "metadata": {
  "kernelspec": {
   "display_name": "Python 3",
   "language": "python",
   "name": "python3"
  },
  "language_info": {
   "codemirror_mode": {
    "name": "ipython",
    "version": 3
   },
   "file_extension": ".py",
   "mimetype": "text/x-python",
   "name": "python",
   "nbconvert_exporter": "python",
   "pygments_lexer": "ipython3",
   "version": "3.6.3"
  }
 },
 "nbformat": 4,
 "nbformat_minor": 2
}
