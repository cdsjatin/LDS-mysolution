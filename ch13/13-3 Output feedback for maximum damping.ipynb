{
 "cells": [
  {
   "cell_type": "markdown",
   "metadata": {},
   "source": [
    "### 13-3 Output feedback for maximum damping\n",
    "\n",
    "Consider the discrete-time linear dynamical system\n",
    "x(t + 1)\n",
    "y(t)\n",
    "=\n",
    "Ax(t) + Bu(t),\n",
    "= Cx(t),\n",
    "with A ∈ R n×n , B ∈ R n×m , C ∈ R p×n . In output feedback control we use an input which is a linear\n",
    "function of the output, that is,\n",
    "u(t) = Ky(t),\n",
    "where K ∈ R m×p is the feedback gain matrix. The resulting state trajectory is identical to that of an\n",
    "autonomous system,\n",
    "x(t + 1) = Āx(t).\n",
    "\n",
    "(a) Write Ā explicitly in terms of A, B, C, and K.\n",
    "\n",
    "(b) Consider the single-input, single-output system with\n",
    "\n",
    "\n",
    "\n",
    "\n",
    "0.5 1.0\n",
    "0.1\n",
    "1\n",
    "A =  −0.1 0.5 −0.1  , B =  0  ,\n",
    "0.2 0.0\n",
    "0.9\n",
    "0\n",
    "\n",
    "C =\n",
    "\u0002\n",
    "0\n",
    "1\n",
    "0\n",
    "\u0003\n",
    ".\n",
    "\n",
    "In this case, the feedback gain matrix K is a scalar (which we call simply the feedback gain.) The\n",
    "question is: find the feedback gain K opt such that the feedback system is maximally damped.\n",
    "By maximally damped, we mean that the state goes to zero with the fastest asymptotic decay\n",
    "rate (measured for an initial state x(0) with non-zero coefficient in the slowest mode.) Hint: You\n",
    "are only required to give your answer K opt up to a precision of ±0.01, and you can assume that\n",
    "K opt ∈ [−2, 2]\n"
   ]
  },
  {
   "cell_type": "markdown",
   "metadata": {
    "collapsed": true
   },
   "source": [
    "### Answers\n",
    "\n",
    "x(t+1) = $\\bar{A}$x(t)\n",
    "\n",
    "$\\bar{A}$ = (A + BKC)"
   ]
  },
  {
   "cell_type": "code",
   "execution_count": 24,
   "metadata": {
    "collapsed": true
   },
   "outputs": [],
   "source": [
    "import numpy as np\n",
    "import matplotlib.pyplot as plt\n",
    "%matplotlib inline\n"
   ]
  },
  {
   "cell_type": "code",
   "execution_count": 25,
   "metadata": {
    "collapsed": true
   },
   "outputs": [],
   "source": [
    "A = np.asarray([[0.5,1.0,0.1],[-0.1,0.5,-0.1],[0.2,0.0,0.9]])\n",
    "\n",
    "B = np.asarray([1,0,0])\n",
    "B = B[:,np.newaxis]\n",
    "\n",
    "C = np.asarray([0,1,0])\n",
    "C = C[np.newaxis,:]\n"
   ]
  },
  {
   "cell_type": "markdown",
   "metadata": {},
   "source": [
    "## The Problem is : \n",
    "$$K_{opt} = argmin_K \\ max_i \\ |\\lambda_i (\\bar{A})|$$"
   ]
  },
  {
   "cell_type": "code",
   "execution_count": 44,
   "metadata": {},
   "outputs": [
    {
     "name": "stdout",
     "output_type": "stream",
     "text": [
      "0.748944491524 for k =  1.92991239049\n"
     ]
    },
    {
     "data": {
      "image/png": "[encoded data removed]",
      "text/plain": [
       "<matplotlib.figure.Figure at 0x7f22f67ccbe0>"
      ]
     },
     "metadata": {},
     "output_type": "display_data"
    }
   ],
   "source": [
    "K = np.linspace(-2,3,800, endpoint=True)\n",
    "eigs = []\n",
    "for k in K:\n",
    "    eigs.append(np.max(np.absolute(np.linalg.eigvals(A + np.multiply(k, B.dot(C))))))\n",
    "    \n",
    "print(np.min(eigs),'for k = ', K[np.argmin(eigs)])\n",
    "\n",
    "plt.plot(K,eigs,'-')\n",
    "plt.grid('ON')"
   ]
  },
  {
   "cell_type": "code",
   "execution_count": null,
   "metadata": {
    "collapsed": true
   },
   "outputs": [],
   "source": []
  },
  {
   "cell_type": "code",
   "execution_count": null,
   "metadata": {
    "collapsed": true
   },
   "outputs": [],
   "source": []
  }
 ],
 "metadata": {
  "kernelspec": {
   "display_name": "Python 3",
   "language": "python",
   "name": "python3"
  },
  "language_info": {
   "codemirror_mode": {
    "name": "ipython",
    "version": 3
   },
   "file_extension": ".py",
   "mimetype": "text/x-python",
   "name": "python",
   "nbconvert_exporter": "python",
   "pygments_lexer": "ipython3",
   "version": "3.6.3"
  }
 },
 "nbformat": 4,
 "nbformat_minor": 2
}
