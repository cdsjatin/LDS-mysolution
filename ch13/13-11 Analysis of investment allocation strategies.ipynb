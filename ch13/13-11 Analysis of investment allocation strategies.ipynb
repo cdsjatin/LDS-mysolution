{
 "cells": [
  {
   "cell_type": "markdown",
   "metadata": {},
   "source": [
    "### 13-11 Analysis of investment allocation strategies\n",
    "\n",
    "Each year or period (denoted t = 0, 1, . . .) an investor\n",
    "buys certain amounts of one-, two-, and three-year certificates of deposit (CDs) with interest rates\n",
    "5%, 6%, and 7%, respectively. (We ignore minimum purchase requirements, and assume they can be\n",
    "bought in any amount.)\n",
    "\n",
    "• B 1 (t) denotes the amount of one-year CDs bought at period t.\n",
    "\n",
    "• B 2 (t) denotes the amount of two-year CDs bought at period t.\n",
    "\n",
    "• B 3 (t) denotes the amount of three-year CDs bought at period t.\n",
    "\n",
    "We assume that B 1 (0) + B 2 (0) + B 3 (0) = 1, i.e., a total of 1 is to be invested at t = 0. (You can take\n",
    "B j (t) to be zero for t < 0.) The total payout to the investor, p(t), at period t is a sum of six terms:\n",
    "\n",
    "• 1.05B 1 (t − 1), i.e., principle plus 5% interest on the amount of one-year CDs bought one year ago.\n",
    "\n",
    "• 1.06B 2 (t − 2), i.e., principle plus 6% interest on the amount of two-year CDs bought two years\n",
    "ago.\n",
    "\n",
    "• 1.07B 3 (t − 3), i.e., principle plus 7% interest on the amount of three-year CDs bought three years\n",
    "ago.\n",
    "\n",
    "• 0.06B 2 (t − 1), i.e., 6% interest on the amount of two-year CDs bought one year ago.\n",
    "\n",
    "### READ REST FROM QUESTIONAIRE"
   ]
  },
  {
   "cell_type": "markdown",
   "metadata": {
    "collapsed": true
   },
   "source": [
    "### (A)"
   ]
  },
  {
   "cell_type": "markdown",
   "metadata": {},
   "source": [
    "### \n",
    "\n",
    "$x(t) = [B_1(t) \\\n",
    "        B_2(t) \\\n",
    "        B_2(t-1)\\ \n",
    "        B_3(t)\\ \n",
    "        B_3(t-1)\\ \n",
    "        B_3(t-2)]$\n",
    "\n",
    "B_3(t) = 0 for t < 0 <br\\>\n",
    "B_2(t) = 0 for t < 0 <br\\>\n",
    "B_1(t) = 0 for t < 0\n",
    "\n"
   ]
  },
  {
   "cell_type": "code",
   "execution_count": 46,
   "metadata": {
    "collapsed": true
   },
   "outputs": [],
   "source": [
    "import numpy as np\n",
    "\n",
    "np.set_printoptions(suppress=True)"
   ]
  },
  {
   "cell_type": "code",
   "execution_count": 47,
   "metadata": {
    "collapsed": true
   },
   "outputs": [],
   "source": [
    "C = np.ones((6,1))\n",
    "zero = np.zeros((1,1))\n",
    "C = np.append(C, zero, axis=0)"
   ]
  },
  {
   "cell_type": "code",
   "execution_count": 48,
   "metadata": {},
   "outputs": [
    {
     "name": "stdout",
     "output_type": "stream",
     "text": [
      "5\n"
     ]
    }
   ],
   "source": [
    "A = np.asarray([[0,0,0,0,0,0,0.35],\n",
    "                [0,0,0,0,0,0,0.35],\n",
    "                [0,1,0,0,0,0,0],\n",
    "                [0,0,0,0,0,0,0.30],\n",
    "                [0,0,0,1,0,0,0],\n",
    "                [0,0,0,0,1,0,0],\n",
    "                [1.05,0.06,1.06,0.07,0.07,1.07,0]])\n",
    "print(np.linalg.matrix_rank(A))\n"
   ]
  },
  {
   "cell_type": "code",
   "execution_count": 65,
   "metadata": {},
   "outputs": [
    {
     "name": "stdout",
     "output_type": "stream",
     "text": [
      "4 (6, 6)\n",
      "[[ 0.3675  0.021   0.371   0.0245  0.0245  0.3745]\n",
      " [ 0.3675  0.021   0.371   0.0245  0.0245  0.3745]\n",
      " [ 0.      1.      0.      0.      0.      0.    ]\n",
      " [ 0.315   0.018   0.318   0.021   0.021   0.321 ]\n",
      " [ 0.      0.      0.      1.      0.      0.    ]\n",
      " [ 0.      0.      0.      0.      1.      0.    ]]\n"
     ]
    }
   ],
   "source": [
    "## without p(t)\n",
    "A2 = np.asarray([[0.35*1.05,0.35*0.06,0.35*1.06,0.35*0.07,0.35*0.07,0.35*1.07],\n",
    "                [0.35*1.05,0.35*0.06,0.35*1.06,0.35*0.07,0.35*0.07,0.35*1.07],\n",
    "                [0,1,0,0,0,0],\n",
    "                [0.30*1.05,0.30*0.06,0.30*1.06,0.30*0.07,0.30*0.07,0.30*1.07],\n",
    "                [0,0,0,1,0,0],\n",
    "                [0,0,0,0,1,0]])\n",
    "print(np.linalg.matrix_rank(A2), A2.shape)\n",
    "print(A2)"
   ]
  },
  {
   "cell_type": "code",
   "execution_count": 50,
   "metadata": {
    "collapsed": true
   },
   "outputs": [],
   "source": [
    "C2 = np.ones((6,1))"
   ]
  },
  {
   "cell_type": "code",
   "execution_count": 57,
   "metadata": {},
   "outputs": [
    {
     "name": "stdout",
     "output_type": "stream",
     "text": [
      "1.06265257675\n"
     ]
    }
   ],
   "source": [
    "#print(np.linalg.eigvals(A2))\n",
    "print(np.max(np.absolute(np.linalg.eigvals(A2))))\n",
    "\n",
    "# other eigenvalues are less than one so asymptotically, x along \n",
    "# other eigenvector dies to 0. So we will focus on the max eigenvalue\n",
    "# only."
   ]
  },
  {
   "cell_type": "code",
   "execution_count": 64,
   "metadata": {},
   "outputs": [
    {
     "name": "stdout",
     "output_type": "stream",
     "text": [
      "1.05978648918\n"
     ]
    }
   ],
   "source": [
    "B = np.asarray([\n",
    "                np.multiply([1.05,0.06,1.06,0.07,0.07,1.07],0.60),\n",
    "                np.multiply([1.05,0.06,1.06,0.07,0.07,1.07],0.20),\n",
    "                [0,1,0,0,0,0],\n",
    "                np.multiply([1.05,0.06,1.06,0.07,0.07,1.07],0.20),\n",
    "                [0,0,0,1,0,0],\n",
    "                [0,0,0,0,1,0]\n",
    "                ])\n",
    "print(np.max(np.absolute(np.linalg.eigvals(B))))"
   ]
  },
  {
   "cell_type": "code",
   "execution_count": null,
   "metadata": {
    "collapsed": true
   },
   "outputs": [],
   "source": [
    "L = np.asarray([\n",
    "                [1,0,1,0,0,1],\n",
    "                [0,1,0,0,1,0],\n",
    "                [0,0,0,1,0,0]\n",
    "                ])"
   ]
  }
 ],
 "metadata": {
  "kernelspec": {
   "display_name": "Python 3",
   "language": "python",
   "name": "python3"
  },
  "language_info": {
   "codemirror_mode": {
    "name": "ipython",
    "version": 3
   },
   "file_extension": ".py",
   "mimetype": "text/x-python",
   "name": "python",
   "nbconvert_exporter": "python",
   "pygments_lexer": "ipython3",
   "version": "3.6.3"
  }
 },
 "nbformat": 4,
 "nbformat_minor": 2
}
