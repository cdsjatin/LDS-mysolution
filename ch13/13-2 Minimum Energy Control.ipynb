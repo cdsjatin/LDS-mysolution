{
 "cells": [
  {
   "cell_type": "markdown",
   "metadata": {},
   "source": [
    "### 13-2 Minimum Energy Control\n",
    "\n",
    "Consider the discrete-time linear dynamical system\n",
    "x(t + 1) = Ax(t) + Bu(t),\n",
    "t = 0, 1, 2, . . .\n",
    "where x(t) ∈ R n , and the input u(t) is a scalar (hence, A ∈ R n×n and B ∈ R n×1 ). The initial state\n",
    "is x(0) = 0.\n",
    "\n",
    "(a) Find the matrix C T such that\n",
    "\n",
    "\n",
    "u(T − 1)\n",
    "\n",
    "\n",
    ".\n",
    "\n",
    "\n",
    ".\n",
    "x(T ) = C T \n",
    " .\n",
    " u(1) \n",
    "u(0)\n",
    "\n",
    "(b) For the remainder of this problem, we consider a specific system with\n",
    "input matrices are\n",
    "\n",
    "\n",
    "\n",
    "0.5\n",
    "0.7 −0.9 −0.5\n",
    "1\n",
    " 0.4 −0.7\n",
    "\n",
    " 1\n",
    "0.1\n",
    "0.3\n",
    " , B = \n",
    "A = \n",
    " 0.7\n",
    " 0\n",
    "0.0 −0.6\n",
    "0.1 \n",
    "0.4 −0.1\n",
    "0.8 −0.5\n",
    "0\n",
    "n = 4. The dynamics and\n",
    "\n",
    "\n",
    " .\n",
    "\n",
    "Suppose we want the state to be x des at time T . Consider the desired state\n",
    "\n",
    "\n",
    "0.8\n",
    " 2.3 \n",
    "\n",
    "x des = \n",
    " −0.7  .\n",
    "−0.3\n",
    "\n",
    "What is the smallest T for which we can find inputs u(0), . . . , u(T − 1), such that x(T ) = x des ?\n",
    "What are the corresponding inputs that achieve x des at this minimum time? What is the smallest\n",
    "T for which we can find inputs u(0), . . . , u(T − 1), such that x(T ) = x des for any x des ∈ R 4 ? We’ll\n",
    "denote this T by T min .\n",
    "\n",
    "(c) Suppose the energy expended in applying inputs u(0), . . . , u(T − 1) is\n",
    "E(T ) =\n",
    "T\n",
    "−1\n",
    "X\n",
    "2\n",
    "(u(t)) .\n",
    "t=0\n",
    "For a given T (greater than T min ) and x des , how can you compute the inputs which achieve\n",
    "x(T ) = x des with the minimum expense of energy? Consider now the desired state\n",
    "\n",
    "\n",
    "−1\n",
    " 1 \n",
    "\n",
    "x des = \n",
    " 0  .\n",
    "1\n",
    "For each T ranging from T min to 30, find the minimum energy inputs that achieve x(T ) = x des .\n",
    "For each T , evaluate the corresponding input energy, which we denote by E min (T ). Plot E min (T )\n",
    "as a function of T . (You should include in your solution a description of how you computed the\n",
    "minimum-energy inputs, and the plot of the minimum energy as a function of T . But you don’t\n",
    "need to list the actual inputs you computed!)\n",
    "\n",
    "(d) You should observe that E min (T ) is non-increasing in T . Show that this is the case in general\n",
    "(i.e., for any A, B, and x des ).\n",
    "\n",
    "Note: There is a direct way of computing the assymptotic limit of the minimum energy as T → ∞.\n",
    "We’ll cover these ideas in more detail in ee363."
   ]
  },
  {
   "cell_type": "markdown",
   "metadata": {},
   "source": [
    "#### Answers "
   ]
  },
  {
   "cell_type": "markdown",
   "metadata": {
    "collapsed": true
   },
   "source": [
    "### (A)"
   ]
  },
  {
   "cell_type": "markdown",
   "metadata": {},
   "source": [
    "x(T) = [B AB $A^2B \\cdots{}  A^{T-1}B$  ] [u(T-1) u(T-2) .. .$]^T$"
   ]
  },
  {
   "cell_type": "markdown",
   "metadata": {},
   "source": [
    "### (B)"
   ]
  },
  {
   "cell_type": "code",
   "execution_count": 3,
   "metadata": {
    "collapsed": true
   },
   "outputs": [],
   "source": [
    "import numpy as np\n",
    "import matplotlib.pyplot as plt\n",
    "%matplotlib inline"
   ]
  },
  {
   "cell_type": "code",
   "execution_count": 4,
   "metadata": {
    "collapsed": true
   },
   "outputs": [],
   "source": [
    "A = np.asarray([[0.5,0.7,-0.9,-0.5],[0.4,-0.7,0.1,0.3],\n",
    "                [0.7,0.0,-0.6,0.1],[0.4,-0.1,0.8,-0.5]])\n",
    "B = np.asarray([1,1,0,0])\n",
    "B = B[:,np.newaxis]"
   ]
  },
  {
   "cell_type": "code",
   "execution_count": 5,
   "metadata": {},
   "outputs": [
    {
     "data": {
      "text/plain": [
       "array([[ 0.8],\n",
       "       [ 2.3],\n",
       "       [-0.7],\n",
       "       [-0.3]])"
      ]
     },
     "execution_count": 5,
     "metadata": {},
     "output_type": "execute_result"
    }
   ],
   "source": [
    "x_des = np.asarray([0.8,2.3,-0.7,-0.3])\n",
    "x_des[:, np.newaxis]"
   ]
  },
  {
   "cell_type": "code",
   "execution_count": 6,
   "metadata": {},
   "outputs": [
    {
     "data": {
      "text/plain": [
       "4"
      ]
     },
     "execution_count": 6,
     "metadata": {},
     "output_type": "execute_result"
    }
   ],
   "source": [
    "np.linalg.matrix_rank(A)"
   ]
  },
  {
   "cell_type": "code",
   "execution_count": 7,
   "metadata": {},
   "outputs": [
    {
     "data": {
      "text/plain": [
       "array([[ 1.2],\n",
       "       [-0.3],\n",
       "       [ 0.7],\n",
       "       [ 0.3]])"
      ]
     },
     "execution_count": 7,
     "metadata": {},
     "output_type": "execute_result"
    }
   ],
   "source": [
    "# The question is the matrix given above how [B A^2B ...] \n",
    "# should have how many columns to say that x(T) lies in the range.\n",
    "\n",
    "A.dot(B)"
   ]
  },
  {
   "cell_type": "code",
   "execution_count": 8,
   "metadata": {
    "collapsed": true
   },
   "outputs": [],
   "source": [
    "fu = lambda A : A.T.dot(np.linalg.inv(A.dot(A.T)))\n"
   ]
  },
  {
   "cell_type": "code",
   "execution_count": 18,
   "metadata": {},
   "outputs": [
    {
     "name": "stdout",
     "output_type": "stream",
     "text": [
      "4.96367189715 @ 29\n"
     ]
    },
    {
     "data": {
      "image/png": "[encoded data removed]",
      "text/plain": [
       "<matplotlib.figure.Figure at 0x7f66a5709898>"
      ]
     },
     "metadata": {},
     "output_type": "display_data"
    }
   ],
   "source": [
    "J = np.asarray([])\n",
    "# J = x_des\n",
    "J = B\n",
    "#print(J)\n",
    "uu = []\n",
    "for i in range(1,30):\n",
    "    c = np.linalg.matrix_power(A,i).dot(B)\n",
    "    \n",
    "    J = np.append(J,c,axis=1)\n",
    "    #print(fu(J).shape)\n",
    "    #print(np.linalg.matrix_rank(J))\n",
    "\n",
    "    if i > 3:\n",
    "    \n",
    "        u = fu(J).dot(x_des)\n",
    "\n",
    "        #print(u)\n",
    "        uu.append(np.linalg.norm(u)**2)\n",
    "    \n",
    "plt.plot(uu,'-o')\n",
    "\n",
    "print(np.min(uu),'@',4+np.argmin(uu))\n"
   ]
  },
  {
   "cell_type": "markdown",
   "metadata": {
    "collapsed": true
   },
   "source": [
    "### (D)\n",
    "\n",
    "Adding extra column does not increases rank, which implies that full rank or max rank that is needed to get designed solution does not make underdetermined solution determined. Adding more variable can achieve that same solution as earlier or infact lesser that that.\n",
    "\n",
    "\n",
    "$$[J_k\\ A^k B][u_{min}\\ 0]^T$$ \n",
    "\n",
    "also has solution for the min and less."
   ]
  },
  {
   "cell_type": "code",
   "execution_count": null,
   "metadata": {
    "collapsed": true
   },
   "outputs": [],
   "source": []
  }
 ],
 "metadata": {
  "kernelspec": {
   "display_name": "Python 3",
   "language": "python",
   "name": "python3"
  },
  "language_info": {
   "codemirror_mode": {
    "name": "ipython",
    "version": 3
   },
   "file_extension": ".py",
   "mimetype": "text/x-python",
   "name": "python",
   "nbconvert_exporter": "python",
   "pygments_lexer": "ipython3",
   "version": "3.6.3"
  }
 },
 "nbformat": 4,
 "nbformat_minor": 2
}
