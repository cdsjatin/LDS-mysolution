{
 "cells": [
  {
   "cell_type": "markdown",
   "metadata": {},
   "source": [
    "### 13-1 Interconnection of Linear systems\n",
    "\n",
    "Often a linear system is described in terms of a block diagram\n",
    "showing the interconnections between components or subsystems, which are themselves linear systems.\n",
    "In this problem you consider the specific interconnection shown below:\n",
    "\n",
    "Here, there are two subsystems S and T . Subsystem S is characterized by\n",
    "\n",
    "ẋ = Ax + B 1 u + B 2 w 1 ,\n",
    "w 2 = Cx + D 1 u + D 2 w 1 ,\n",
    "\n",
    "and subsystem T is characterized by\n",
    "\n",
    "ż = F z + G 1 v + G 2 w 2 ,\n",
    "w 1 = H 1 z,\n",
    "y = H 2 z + Jw 2 .\n",
    "\n",
    "We don’t specify the dimensions of the signals (which can be vectors) or matrices here. You can assume\n",
    "all the matrices are the correct (i.e., compatible) dimensions. Note that the subscripts in the matrices\n",
    "above, as in B 1 and B 2 , refer to different matrices. Now the problem. Express the overall system as a\n",
    "single linear dynamical system with input, state, and output given by\n",
    "\u0014\n",
    "\u0015\n",
    "\u0014\n",
    "\u0015\n",
    "u\n",
    "x\n",
    ",\n",
    ",\n",
    "y,\n",
    "v\n",
    "z\n",
    "respectively. Be sure to explicitly give the input, dynamics, output, and feedthrough matrices of the\n",
    "overall system. If you need to make any assumptions about the rank or invertibility of any matrix you\n",
    "encounter in your derivations, go ahead. But be sure to let us know what assumptions you are making."
   ]
  },
  {
   "cell_type": "markdown",
   "metadata": {
    "collapsed": true
   },
   "source": [
    "##### Answer\n",
    " very easy, just remove w from the equations"
   ]
  },
  {
   "cell_type": "code",
   "execution_count": null,
   "metadata": {
    "collapsed": true
   },
   "outputs": [],
   "source": []
  }
 ],
 "metadata": {
  "kernelspec": {
   "display_name": "Python 3",
   "language": "python",
   "name": "python3"
  },
  "language_info": {
   "codemirror_mode": {
    "name": "ipython",
    "version": 3
   },
   "file_extension": ".py",
   "mimetype": "text/x-python",
   "name": "python",
   "nbconvert_exporter": "python",
   "pygments_lexer": "ipython3",
   "version": "3.6.3"
  }
 },
 "nbformat": 4,
 "nbformat_minor": 2
}
