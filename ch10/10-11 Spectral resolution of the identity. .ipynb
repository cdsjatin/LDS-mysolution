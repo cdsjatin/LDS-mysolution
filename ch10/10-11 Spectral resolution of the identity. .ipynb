{
 "cells": [
  {
   "cell_type": "markdown",
   "metadata": {},
   "source": [
    "### 10-11 Spectral resolution of the identity. \n",
    "\n",
    "Suppose A ∈ $R^{n×n}$ has n linearly independent eigenvectors\n",
    "p1 , . . . , pn, $p^T_i p_i$  = 1, i = 1, . . . , n, with associated eigenvalues $λ_i$ . Let P = [p1 · · · pn ] and\n",
    "Q = P −1 . Let $q_i$ be the ith row of Q. <br\\>\n",
    "(a) Let $R_k = p_kq_k^T$ . What is the range of $R_k$ ? What is the rank of $R_k$ ? Can you describe\n",
    "the null space of R_k ? <br/>\n",
    "(b) Show that R_i R_j = 0 for i $\\neq$ j. What is $R_i^2$ ?<br/>\n",
    "(c) Show that\n",
    "\n",
    "$$(sI − A)^{−1} = \\sum_{k=1}^{n} \\frac{R_k}{s-\\lambda_k}$$ \n",
    "\n",
    "Note that this is a partial fraction expansion of $(sI − A)^{−1}$. For this reason the Ri’s are\n",
    "called the residue matrices of A.<br/>\n",
    "(d) Show that R1 + · · · + Rn = I. For this reason the residue matrices are said to constitute\n",
    "a resolution of the identity.<br/>\n",
    "(e) Find the residue matrices for A = [[ 1 0][1 −2]]\n",
    "both ways described above (i.e., find P and Q and then calculate the R’s, and then do\n",
    "a partial fraction expansion of $(sI − A)^{−1}$ to find the R’s).\n"
   ]
  },
  {
   "cell_type": "markdown",
   "metadata": {
    "collapsed": true
   },
   "source": [
    "### (A)"
   ]
  },
  {
   "cell_type": "markdown",
   "metadata": {},
   "source": [
    "using <br\\>\n",
    "$\n",
    "Q P = I = PQ\\\\\n",
    "also\\ p_k^Tq_k = 1\\\\\n",
    "\\Rightarrow p_1q_1^T + \\cdots + p_kq_k^T + \\cdots p_nq_n^T  = I \\\\\n",
    "using, p_kp_k^T = 1 \\\\\n",
    "one\\ can\\ show, p_k = q_k \\\\\n",
    "Range(R_k) = span\\{p_k\\}\\ so\\ dim\\ is\\ 1$"
   ]
  },
  {
   "cell_type": "markdown",
   "metadata": {},
   "source": [
    "### (B)"
   ]
  },
  {
   "cell_type": "markdown",
   "metadata": {},
   "source": [
    "use simple manipulations"
   ]
  },
  {
   "cell_type": "markdown",
   "metadata": {},
   "source": [
    "### (C)"
   ]
  },
  {
   "cell_type": "markdown",
   "metadata": {},
   "source": [
    "write A into eigen decomposition and open formula (sI-A) then its inverse is simply inverse of diagonal matrix (s$I$ - $\\Lambda$)."
   ]
  },
  {
   "cell_type": "markdown",
   "metadata": {},
   "source": [
    "### (D)"
   ]
  },
  {
   "cell_type": "markdown",
   "metadata": {},
   "source": [
    "this has been shown in (A)"
   ]
  },
  {
   "cell_type": "markdown",
   "metadata": {},
   "source": [
    "### (E)"
   ]
  },
  {
   "cell_type": "code",
   "execution_count": 85,
   "metadata": {},
   "outputs": [
    {
     "name": "stdout",
     "output_type": "stream",
     "text": [
      "[[ 1  0]\n",
      " [ 1 -2]]\n"
     ]
    }
   ],
   "source": [
    "import numpy as np\n",
    "np.set_printoptions(suppress=True)\n",
    "\n",
    "A = np.asarray([[1,0],[1,-2]])\n",
    "print(A)"
   ]
  },
  {
   "cell_type": "code",
   "execution_count": 86,
   "metadata": {},
   "outputs": [],
   "source": [
    "#ff, v = np.linalg.eig(A)"
   ]
  },
  {
   "cell_type": "code",
   "execution_count": 87,
   "metadata": {},
   "outputs": [
    {
     "name": "stdout",
     "output_type": "stream",
     "text": [
      "[[0.9486833  0.        ]\n",
      " [0.31622777 1.        ]]\n"
     ]
    }
   ],
   "source": [
    "#v.T.dot(v)\n",
    "\n",
    "P = np.asarray([[3/(np.sqrt(10)), 0],[1/(np.sqrt(10)),1]])\n",
    "print(P)"
   ]
  },
  {
   "cell_type": "code",
   "execution_count": 88,
   "metadata": {},
   "outputs": [
    {
     "name": "stdout",
     "output_type": "stream",
     "text": [
      "[[0.9        0.        ]\n",
      " [0.61622777 1.        ]]\n",
      "[0.9486833  0.31622777]\n"
     ]
    }
   ],
   "source": [
    "# check if orthogonal\n",
    "# n linearly independent eigenvector not neccessarily \"orthogonal\"\n",
    "# but can be normalized.\n",
    "print(P.dot(P))\n",
    "print(A.dot(P[:,0]))"
   ]
  },
  {
   "cell_type": "code",
   "execution_count": 89,
   "metadata": {},
   "outputs": [
    {
     "name": "stdout",
     "output_type": "stream",
     "text": [
      "[[ 1.05409255  0.        ]\n",
      " [-0.33333333  1.        ]]\n",
      "[[ 1.  0.]\n",
      " [-0. -2.]]\n"
     ]
    }
   ],
   "source": [
    "Q = np.linalg.inv(P)\n",
    "print(Q)\n",
    "# Compute corresponding eigenvalues\n",
    "\n",
    "print((Q.dot(A)).dot(P))"
   ]
  },
  {
   "cell_type": "code",
   "execution_count": 102,
   "metadata": {},
   "outputs": [
    {
     "name": "stdout",
     "output_type": "stream",
     "text": [
      "[[0.9486833  0.        ]\n",
      " [0.31622777 1.        ]]\n",
      "[[ 1.05409255  0.        ]\n",
      " [-0.33333333  1.        ]]\n"
     ]
    }
   ],
   "source": [
    "# check\n",
    "#Q.T.dot(Q)\n",
    "\n",
    "print(P)\n",
    "print(Q)"
   ]
  },
  {
   "cell_type": "code",
   "execution_count": 103,
   "metadata": {},
   "outputs": [
    {
     "name": "stdout",
     "output_type": "stream",
     "text": [
      "[[1.05409255]\n",
      " [0.        ]]\n",
      "[[0.9486833 ]\n",
      " [0.31622777]]\n",
      "[[1.         0.        ]\n",
      " [0.33333333 0.        ]]\n"
     ]
    }
   ],
   "source": [
    "q1 = np.expand_dims(Q[0,:],axis=-1)\n",
    "print(q1)\n",
    "\n",
    "p1 = np.expand_dims(P[:,0],axis=-1)\n",
    "print(p1)\n",
    "\n",
    "R1 = np.matmul(p1, q1.T)\n",
    "print(R1)"
   ]
  },
  {
   "cell_type": "code",
   "execution_count": 104,
   "metadata": {},
   "outputs": [
    {
     "name": "stdout",
     "output_type": "stream",
     "text": [
      "[[ 0.          0.        ]\n",
      " [-0.33333333  1.        ]]\n"
     ]
    }
   ],
   "source": [
    "q2 = np.expand_dims(Q[1,:],axis=-1)\n",
    "#print(q1.shape)\n",
    "\n",
    "p2 = np.expand_dims(P[:,1],axis=-1)\n",
    "#print(p1.shape)\n",
    "\n",
    "R2 = p2.dot(q2.T)\n",
    "print(R2)"
   ]
  },
  {
   "cell_type": "code",
   "execution_count": 106,
   "metadata": {},
   "outputs": [
    {
     "name": "stdout",
     "output_type": "stream",
     "text": [
      "True\n"
     ]
    }
   ],
   "source": [
    "# Note \n",
    "print(np.all(R1 + R2 == np.eye(2)))"
   ]
  },
  {
   "cell_type": "code",
   "execution_count": 107,
   "metadata": {
    "collapsed": true
   },
   "outputs": [],
   "source": [
    "import sympy as sp"
   ]
  },
  {
   "cell_type": "code",
   "execution_count": 114,
   "metadata": {},
   "outputs": [
    {
     "name": "stdout",
     "output_type": "stream",
     "text": [
      "Matrix([[s - 1, 0], [-1, s + 2]])\n"
     ]
    }
   ],
   "source": [
    "s = sp.symbols('s')\n",
    "\n",
    "sI_A = sp.Matrix(s*sp.eye(2) - A)\n",
    "print(sI_A)"
   ]
  },
  {
   "cell_type": "code",
   "execution_count": 116,
   "metadata": {},
   "outputs": [
    {
     "name": "stdout",
     "output_type": "stream",
     "text": [
      "Matrix([[1/(s - 1), (-(-s + 1)*(s + 2) - (s - 1)*(s + 2))/((s - 1)*(s + 2))], [1/((s - 1)*(s + 2)), -(-s + 1)/((s - 1)*(s + 2))]])\n"
     ]
    }
   ],
   "source": [
    "print(sI_A ** -1)"
   ]
  },
  {
   "cell_type": "code",
   "execution_count": null,
   "metadata": {
    "collapsed": true
   },
   "outputs": [],
   "source": []
  }
 ],
 "metadata": {
  "kernelspec": {
   "display_name": "Python 3",
   "language": "python",
   "name": "python3"
  },
  "language_info": {
   "codemirror_mode": {
    "name": "ipython",
    "version": 3
   },
   "file_extension": ".py",
   "mimetype": "text/x-python",
   "name": "python",
   "nbconvert_exporter": "python",
   "pygments_lexer": "ipython3",
   "version": "3.6.3"
  }
 },
 "nbformat": 4,
 "nbformat_minor": 2
}
