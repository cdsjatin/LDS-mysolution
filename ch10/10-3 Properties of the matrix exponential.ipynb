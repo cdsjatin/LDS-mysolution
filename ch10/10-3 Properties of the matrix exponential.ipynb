{
 "cells": [
  {
   "cell_type": "markdown",
   "metadata": {},
   "source": [
    "### 10-3 Properties of the matrix exponential.\n",
    "(a) Show that $e^{A+B} = e^A e^B$ if A and B commute, i.e., AB = BA. <br\\>\n",
    "(b) Carefully show that\n",
    " $\\frac{d}{dt} e^{At}\n",
    " = A e^{At} = e^{At}A.$ <br\\>"
   ]
  },
  {
   "cell_type": "markdown",
   "metadata": {
    "collapsed": true
   },
   "source": [
    "#### Answer\n",
    "Just open with the power series."
   ]
  },
  {
   "cell_type": "code",
   "execution_count": null,
   "metadata": {
    "collapsed": true
   },
   "outputs": [],
   "source": []
  }
 ],
 "metadata": {
  "kernelspec": {
   "display_name": "Python 3",
   "language": "python",
   "name": "python3"
  },
  "language_info": {
   "codemirror_mode": {
    "name": "ipython",
    "version": 3
   },
   "file_extension": ".py",
   "mimetype": "text/x-python",
   "name": "python",
   "nbconvert_exporter": "python",
   "pygments_lexer": "ipython3",
   "version": "3.6.3"
  }
 },
 "nbformat": 4,
 "nbformat_minor": 2
}
