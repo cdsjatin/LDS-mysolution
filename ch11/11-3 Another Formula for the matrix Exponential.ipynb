{
 "cells": [
  {
   "cell_type": "markdown",
   "metadata": {},
   "source": [
    "### 11-3 Another Formula for matrix exponential\n",
    "\n",
    "You might remember that for any complex number a ∈ C,\n",
    "$e^a = lim_{k→∞} (1 + a/k)^k $. You will establish the matrix analog: for any $A ∈ R^{n×n}$ ,\n",
    "\n",
    "$$e^A = lim_{k→∞} (I + A/k)^k $$\n",
    "\n",
    "To simplify things, you can assume A is diagonalizable. Hint: diagonalize."
   ]
  },
  {
   "cell_type": "markdown",
   "metadata": {
    "collapsed": true
   },
   "source": [
    "Diagonalization makes equation decoupled, so one and then simple manipulations gives the lim of diagonal terms, then reversing from diagonalization one gets the result, Use: limits have linear properties i.e. lim(a+b) = lim a + lim b"
   ]
  },
  {
   "cell_type": "code",
   "execution_count": null,
   "metadata": {
    "collapsed": true
   },
   "outputs": [],
   "source": []
  }
 ],
 "metadata": {
  "kernelspec": {
   "display_name": "Python 3",
   "language": "python",
   "name": "python3"
  },
  "language_info": {
   "codemirror_mode": {
    "name": "ipython",
    "version": 3
   },
   "file_extension": ".py",
   "mimetype": "text/x-python",
   "name": "python",
   "nbconvert_exporter": "python",
   "pygments_lexer": "ipython3",
   "version": "3.6.3"
  }
 },
 "nbformat": 4,
 "nbformat_minor": 2
}
