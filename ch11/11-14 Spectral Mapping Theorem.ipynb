{
 "cells": [
  {
   "cell_type": "markdown",
   "metadata": {},
   "source": [
    "### 11-14 Spectral Mapping Theorem\n",
    "\n",
    "Suppose f : R → R is analytic, i.e., given by a power series expansion\n",
    "\n",
    "$$f (u) = a 0 + a 1 u + a 2 u 2 + · · ·$$\n",
    "\n",
    "(where a i = f (i) (0)/(i!)). (You can assume that we only consider values of u for which this series\n",
    "converges.) For A ∈ R n×n , we define f (A) as\n",
    "\n",
    "$$f (A) = a 0 I + a 1 A + a 2 A 2 + · · ·$$\n",
    "\n",
    "(again, we’ll just assume that this converges). <br\\>\n",
    "\n",
    "Suppose that Av = λv, where v 6 = 0, and λ ∈ C. Show that f (A)v = f (λ)v (ignoring the issue of\n",
    "convergence of series). We conclude that if λ is an eigenvalue of A, then f (λ) is an eigenvalue of f (A).\n",
    "This is called the spectral mapping theorem. <br\\>\n",
    "\n",
    "To illustrate this with an example, generate a random 3 × 3 matrix, for example using A=randn(3).\n",
    "Find the eigenvalues of $(I + A)(I − A)^{−1}$ by first computing this matrix, then finding its eigenvalues,\n",
    "and also by using the spectral mapping theorem. (You should get very close agreement; any difference\n",
    "is due to numerical round-off errors in the various compuations.)"
   ]
  },
  {
   "cell_type": "markdown",
   "metadata": {
    "collapsed": true
   },
   "source": [
    "#### Answer\n",
    "\n",
    "First part is quite obvious"
   ]
  },
  {
   "cell_type": "code",
   "execution_count": 21,
   "metadata": {
    "collapsed": true
   },
   "outputs": [],
   "source": [
    "import numpy as np"
   ]
  },
  {
   "cell_type": "code",
   "execution_count": 22,
   "metadata": {
    "collapsed": true
   },
   "outputs": [],
   "source": [
    "np.random.seed(5)\n",
    "A = np.random.randn(3,3)"
   ]
  },
  {
   "cell_type": "code",
   "execution_count": 23,
   "metadata": {
    "collapsed": true
   },
   "outputs": [],
   "source": [
    "I = np.eye(3)\n",
    "\n",
    "B = np.matmul((I+A),np.linalg.inv(I-A))"
   ]
  },
  {
   "cell_type": "code",
   "execution_count": 24,
   "metadata": {
    "collapsed": true
   },
   "outputs": [],
   "source": [
    "def f(u):\n",
    "    return (1+u)/(1-u)"
   ]
  },
  {
   "cell_type": "code",
   "execution_count": 25,
   "metadata": {},
   "outputs": [
    {
     "name": "stdout",
     "output_type": "stream",
     "text": [
      "[0.1286+1.7534j 0.1286-1.7534j 0.4812+0.j    ]\n",
      "[-0.5454+0.9147j -0.5454-0.9147j  2.8552+0.j    ]\n"
     ]
    }
   ],
   "source": [
    "# eigen values of B should be:\n",
    "eigA = np.linalg.eigvals(A)\n",
    "print(eigA)\n",
    "\n",
    "eigB_proposed = f(eigA)\n",
    "print(eigB_proposed)"
   ]
  },
  {
   "cell_type": "code",
   "execution_count": 26,
   "metadata": {},
   "outputs": [
    {
     "name": "stdout",
     "output_type": "stream",
     "text": [
      "[ 2.8552+0.j     -0.5454+0.9147j -0.5454-0.9147j]\n"
     ]
    }
   ],
   "source": [
    "# eig value of B actual\n",
    "eigB = np.linalg.eigvals(B)\n",
    "print(eigB)"
   ]
  },
  {
   "cell_type": "code",
   "execution_count": 31,
   "metadata": {},
   "outputs": [
    {
     "ename": "TypeError",
     "evalue": "type numpy.ndarray doesn't define __round__ method",
     "output_type": "error",
     "traceback": [
      "\u001b[0;31m---------------------------------------------------------------------------\u001b[0m",
      "\u001b[0;31mTypeError\u001b[0m                                 Traceback (most recent call last)",
      "\u001b[0;32m<ipython-input-31-d35d57997111>\u001b[0m in \u001b[0;36m<module>\u001b[0;34m()\u001b[0m\n\u001b[0;32m----> 1\u001b[0;31m \u001b[0mprint\u001b[0m\u001b[0;34m(\u001b[0m\u001b[0mset\u001b[0m\u001b[0;34m(\u001b[0m\u001b[0mround\u001b[0m\u001b[0;34m(\u001b[0m\u001b[0meigB_proposed\u001b[0m\u001b[0;34m,\u001b[0m\u001b[0;36m2\u001b[0m\u001b[0;34m)\u001b[0m\u001b[0;34m)\u001b[0m\u001b[0;34m)\u001b[0m\u001b[0;34m\u001b[0m\u001b[0m\n\u001b[0m\u001b[1;32m      2\u001b[0m \u001b[0mprint\u001b[0m\u001b[0;34m(\u001b[0m\u001b[0mset\u001b[0m\u001b[0;34m(\u001b[0m\u001b[0meigB\u001b[0m\u001b[0;34m)\u001b[0m\u001b[0;34m)\u001b[0m\u001b[0;34m\u001b[0m\u001b[0m\n\u001b[1;32m      3\u001b[0m \u001b[0;34m\u001b[0m\u001b[0m\n\u001b[1;32m      4\u001b[0m \u001b[0;31m## Yup they are equal just its difficult to handle round in python\u001b[0m\u001b[0;34m\u001b[0m\u001b[0;34m\u001b[0m\u001b[0m\n",
      "\u001b[0;31mTypeError\u001b[0m: type numpy.ndarray doesn't define __round__ method"
     ]
    }
   ],
   "source": [
    "print(set(eigB_proposed))\n",
    "print(set(eigB))\n",
    "\n",
    "## Yup they are equal just its difficult to handle round in python"
   ]
  },
  {
   "cell_type": "code",
   "execution_count": null,
   "metadata": {
    "collapsed": true
   },
   "outputs": [],
   "source": []
  }
 ],
 "metadata": {
  "kernelspec": {
   "display_name": "Python 3",
   "language": "python",
   "name": "python3"
  },
  "language_info": {
   "codemirror_mode": {
    "name": "ipython",
    "version": 3
   },
   "file_extension": ".py",
   "mimetype": "text/x-python",
   "name": "python",
   "nbconvert_exporter": "python",
   "pygments_lexer": "ipython3",
   "version": "3.6.3"
  }
 },
 "nbformat": 4,
 "nbformat_minor": 2
}
