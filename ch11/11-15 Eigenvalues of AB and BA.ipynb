{
 "cells": [
  {
   "cell_type": "markdown",
   "metadata": {},
   "source": [
    "### 11-15 Eigenvalues of AB and BA\n",
    "\n",
    "Suppose that $A ∈ R^{m×n}$ and $B ∈ R^{n×m}$ . Show that if λ ∈ C is a nonzero\n",
    "eigenvalue of AB, then λ is also an eigenvalue of BA. Conclude that the nonzero eigenvalues of AB\n",
    "and BA are the same.\n",
    "<br\\>\n",
    "Hint: Suppose that ABv = λv, where $v \\neq 0, λ \\neq 0$. Construct a $w \\neq 0$ for\n",
    "which BAw = λw."
   ]
  },
  {
   "cell_type": "markdown",
   "metadata": {
    "collapsed": true
   },
   "source": [
    "#### Answer\n",
    "$\n",
    "AB v = \\lambda v \\\\\n",
    "multiply\\ B\\ both\\ side\\\\\n",
    "BAB v = \\lambda Bv \\\\\n",
    "BA (Bv) = \\lambda (Bv) \\\\\n",
    "let\\ w = Bv \\\\\n",
    "BA w = \\lambda w \\\\\n",
    "$ <br\\>\n",
    "so $\\lambda$ is also eigenvalue of BA"
   ]
  },
  {
   "cell_type": "code",
   "execution_count": null,
   "metadata": {
    "collapsed": true
   },
   "outputs": [],
   "source": []
  }
 ],
 "metadata": {
  "kernelspec": {
   "display_name": "Python 3",
   "language": "python",
   "name": "python3"
  },
  "language_info": {
   "codemirror_mode": {
    "name": "ipython",
    "version": 3
   },
   "file_extension": ".py",
   "mimetype": "text/x-python",
   "name": "python",
   "nbconvert_exporter": "python",
   "pygments_lexer": "ipython3",
   "version": "3.6.3"
  }
 },
 "nbformat": 4,
 "nbformat_minor": 2
}
