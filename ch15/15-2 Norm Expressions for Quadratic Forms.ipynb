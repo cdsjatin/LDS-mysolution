{
 "cells": [
  {
   "cell_type": "markdown",
   "metadata": {},
   "source": [
    "\n",
    "### 15-2 Norm Expressions for Quadratic Forms\n",
    "\n",
    "Let f (x) = x T Ax (with A = A T ∈ R n×n ) be a quadratic form.\n",
    "\n",
    "(a) Show that f is positive semidefinite (i.e., A ≥ 0) if and only if it can be expressed as f (x) = kF xk 2\n",
    "for some matrix F ∈ R k×n . Explain how to find such an F (when A ≥ 0). What is the size of\n",
    "the smallest such F (i.e., how small can k be)?\n",
    "\n",
    "(b) Show that f can be expressed as a difference of squared norms, in the form f (x) = kF xk 2 −kGxk 2 ,\n",
    "for some appropriate matrices F and G. How small can the sizes of F and G be?"
   ]
  },
  {
   "cell_type": "markdown",
   "metadata": {
    "collapsed": true
   },
   "source": [
    "### (A)"
   ]
  },
  {
   "cell_type": "markdown",
   "metadata": {},
   "source": [
    "if s.p.d. then min eigenvalue be greater than zero, eigendecomposition gives the desired F.\n",
    "\n",
    "k can be minimum as non-zero eigen values. which is equal to n - dim(N(A)). Ax = 0x => 0 is the eigenvalue.\n",
    "\n",
    "Also since dim(N(A)) = n-r , we can say that k is as small as rank\n",
    "r. This relation is highly used to link eigenvalues, rank and dim."
   ]
  },
  {
   "cell_type": "markdown",
   "metadata": {},
   "source": [
    "### (B)"
   ]
  },
  {
   "cell_type": "markdown",
   "metadata": {},
   "source": [
    "since no necessarily be semi positive definite any matrix can be broken into positive and negatives. for spd always positive and negative part is zero. Using positive and negative eigenvalues and proceeding as above."
   ]
  },
  {
   "cell_type": "code",
   "execution_count": null,
   "metadata": {
    "collapsed": true
   },
   "outputs": [],
   "source": []
  }
 ],
 "metadata": {
  "kernelspec": {
   "display_name": "Python 3",
   "language": "python",
   "name": "python3"
  },
  "language_info": {
   "codemirror_mode": {
    "name": "ipython",
    "version": 3
   },
   "file_extension": ".py",
   "mimetype": "text/x-python",
   "name": "python",
   "nbconvert_exporter": "python",
   "pygments_lexer": "ipython3",
   "version": "3.6.3"
  }
 },
 "nbformat": 4,
 "nbformat_minor": 2
}
