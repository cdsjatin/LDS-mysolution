{
 "cells": [
  {
   "cell_type": "markdown",
   "metadata": {},
   "source": [
    "### 15-2 Norm Expressions for Quadratic Forms\n",
    "\n",
    "Let f (x) = x T Ax (with A = A T ∈ R n×n ) be a quadratic form.\n",
    "\n",
    "(a) Show that f is positive semidefinite (i.e., A ≥ 0) if and only if it can be expressed as f (x) = kF xk 2\n",
    "for some matrix F ∈ R k×n . Explain how to find such an F (when A ≥ 0). What is the size of\n",
    "the smallest such F (i.e., how small can k be)?\n",
    "\n",
    "(b) Show that f can be expressed as a difference of squared norms, in the form f (x) = kF xk 2 −kGxk 2 ,\n",
    "for some appropriate matrices F and G. How small can the sizes of F and G be?"
   ]
  },
  {
   "cell_type": "code",
   "execution_count": null,
   "metadata": {
    "collapsed": true
   },
   "outputs": [],
   "source": []
  }
 ],
 "metadata": {
  "kernelspec": {
   "display_name": "Python 3",
   "language": "python",
   "name": "python3"
  },
  "language_info": {
   "codemirror_mode": {
    "name": "ipython",
    "version": 3
   },
   "file_extension": ".py",
   "mimetype": "text/x-python",
   "name": "python",
   "nbconvert_exporter": "python",
   "pygments_lexer": "ipython3",
   "version": "3.6.3"
  }
 },
 "nbformat": 4,
 "nbformat_minor": 2
}
