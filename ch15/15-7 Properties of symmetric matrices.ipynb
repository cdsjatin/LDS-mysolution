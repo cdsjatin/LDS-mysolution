{
 "cells": [
  {
   "cell_type": "markdown",
   "metadata": {},
   "source": [
    "### 15-7 Properties of symmetric matrices\n",
    "\n",
    "In this problem P and Q are symmetric matrices. For each statement\n",
    "below, either give a proof or a specific counterexample.\n",
    "\n",
    "(a) If P ≥ 0 then P + Q ≥ Q.\n",
    "\n",
    "(b) If P ≥ Q then −P ≤ −Q.\n",
    "\n",
    "(c) If P > 0 then P −1 > 0.\n",
    "\n",
    "(d) If P ≥ Q > 0 then P −1 ≤ Q −1 .\n",
    "\n",
    "(e) If P ≥ Q then P 2 ≥ Q 2 .\n",
    "\n",
    "Hint: you might find it useful for part (d) to prove Z ≥ I implies Z −1 ≤ I."
   ]
  },
  {
   "cell_type": "markdown",
   "metadata": {
    "collapsed": true
   },
   "source": [
    "1. Go by definition of multiplying xt and x both sides and then use  scalar inequality\n",
    "2. Defn, and use scalar inequality\n",
    "\n",
    "Defn says if A > B then A-B > 0\n",
    "\n",
    "3. Use eigenvalues and decomposition.\n",
    "4. DO AGAIN\n",
    "5. false"
   ]
  },
  {
   "cell_type": "code",
   "execution_count": null,
   "metadata": {
    "collapsed": true
   },
   "outputs": [],
   "source": []
  }
 ],
 "metadata": {
  "kernelspec": {
   "display_name": "Python 3",
   "language": "python",
   "name": "python3"
  },
  "language_info": {
   "codemirror_mode": {
    "name": "ipython",
    "version": 3
   },
   "file_extension": ".py",
   "mimetype": "text/x-python",
   "name": "python",
   "nbconvert_exporter": "python",
   "pygments_lexer": "ipython3",
   "version": "3.6.3"
  }
 },
 "nbformat": 4,
 "nbformat_minor": 2
}
