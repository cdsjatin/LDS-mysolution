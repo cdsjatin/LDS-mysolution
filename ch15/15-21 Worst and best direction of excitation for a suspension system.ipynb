{
 "cells": [
  {
   "cell_type": "markdown",
   "metadata": {},
   "source": [
    "### 15-21 Worst and best direction of excitation for a suspension system"
   ]
  },
  {
   "cell_type": "markdown",
   "metadata": {},
   "source": [
    "### Answer\n",
    "\n",
    "Since the whole y(t) linearly depends upon the q then the net equation is with only 3 variable each with respect to one direction \n",
    "\n",
    "So D becomes D = $||Jq||$\n",
    "\n",
    "so equation are some Matrix J and $(x^T J x)$ such that $||q|| = 1$"
   ]
  },
  {
   "cell_type": "markdown",
   "metadata": {},
   "source": [
    "Solution to above problem is standard q corresponding to maximum eigenvalue for D maximum and q be eigenvector corresponding to minimum eigenvalue for D minimum."
   ]
  },
  {
   "cell_type": "code",
   "execution_count": 16,
   "metadata": {},
   "outputs": [],
   "source": [
    "import json\n",
    "from pprint import pprint\n",
    "import numpy as np\n",
    "\n",
    "with open('worst_susp_data.json') as f:\n",
    "    data = json.load(f)\n",
    "    \n",
    "#pprint(data)"
   ]
  },
  {
   "cell_type": "code",
   "execution_count": 15,
   "metadata": {},
   "outputs": [
    {
     "name": "stdout",
     "output_type": "stream",
     "text": [
      "(5, 5) (5, 3) (3, 5) (100, 1)\n"
     ]
    }
   ],
   "source": [
    "A = np.asarray(data['A']['data'])\n",
    "B = np.asarray(data['B']['data'])\n",
    "C = np.asarray(data['C']['data'])\n",
    "\n",
    "v = np.asarray(data['v']['data'])\n",
    "\n",
    "print(A.shape, B.shape, C.shape, v.shape)"
   ]
  },
  {
   "cell_type": "code",
   "execution_count": 21,
   "metadata": {},
   "outputs": [
    {
     "name": "stdout",
     "output_type": "stream",
     "text": [
      "[[-0.  0. -0.]\n",
      " [ 0. -0.  0.]\n",
      " [ 0. -0.  0.]]\n"
     ]
    }
   ],
   "source": [
    "#print(v)\n",
    "M = v[0]*C.dot(B)\n",
    "print(M)"
   ]
  },
  {
   "cell_type": "markdown",
   "metadata": {
    "collapsed": true
   },
   "source": [
    "#### The whole relation is analysed after opening each relation in vector form to finally realizing it is linear form,  not as given above."
   ]
  },
  {
   "cell_type": "code",
   "execution_count": null,
   "metadata": {
    "collapsed": true
   },
   "outputs": [],
   "source": []
  }
 ],
 "metadata": {
  "kernelspec": {
   "display_name": "Python 3",
   "language": "python",
   "name": "python3"
  },
  "language_info": {
   "codemirror_mode": {
    "name": "ipython",
    "version": 3
   },
   "file_extension": ".py",
   "mimetype": "text/x-python",
   "name": "python",
   "nbconvert_exporter": "python",
   "pygments_lexer": "ipython3",
   "version": "3.6.3"
  }
 },
 "nbformat": 4,
 "nbformat_minor": 2
}
