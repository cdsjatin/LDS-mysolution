{
 "cells": [
  {
   "cell_type": "markdown",
   "metadata": {},
   "source": [
    "### 15-22 Two representations of an ellipsoid."
   ]
  },
  {
   "cell_type": "markdown",
   "metadata": {
    "collapsed": true
   },
   "source": [
    "### Answer\n"
   ]
  },
  {
   "cell_type": "markdown",
   "metadata": {},
   "source": [
    "1) decompose S as $Q^T \\Lambda^{\\frac{T}{2}} \\Lambda^{\\frac{1}{2}} Q$\n",
    "\n",
    "which implies that $||\\Lambda^{\\frac{1}{2}}Qx|| < 1$\n",
    "\n",
    "also for the second elipsoid $A^{-1}y$ <= 1\n",
    "\n",
    "for two ellipsoid since x == y, \n",
    "\n",
    "implies $A^{-1}$ = $\\Lambda^{\\frac{1}{2}}Q$\n",
    "\n",
    "or $A = Q^{T}\\Lambda^{\\frac{-1}{2}}$"
   ]
  },
  {
   "cell_type": "markdown",
   "metadata": {},
   "source": [
    "2) Similarly for $S = A^{-T}A^{-1}$"
   ]
  },
  {
   "cell_type": "markdown",
   "metadata": {},
   "source": [
    "3) A is not unique as $\\Lambda$ can be permuted, but S is unique from A, as $A^{-1}$ is unique."
   ]
  },
  {
   "cell_type": "code",
   "execution_count": null,
   "metadata": {
    "collapsed": true
   },
   "outputs": [],
   "source": []
  }
 ],
 "metadata": {
  "kernelspec": {
   "display_name": "Python 3",
   "language": "python",
   "name": "python3"
  },
  "language_info": {
   "codemirror_mode": {
    "name": "ipython",
    "version": 3
   },
   "file_extension": ".py",
   "mimetype": "text/x-python",
   "name": "python",
   "nbconvert_exporter": "python",
   "pygments_lexer": "ipython3",
   "version": "3.6.3"
  }
 },
 "nbformat": 4,
 "nbformat_minor": 2
}
