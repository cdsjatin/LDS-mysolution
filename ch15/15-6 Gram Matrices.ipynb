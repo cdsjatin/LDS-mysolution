{
 "cells": [
  {
   "cell_type": "markdown",
   "metadata": {},
   "source": [
    "### 15-6 Gram Matrices\n",
    "\n",
    "Given functions f i : [a, b] → R, i = 1, . . . , n, the Gram matrix G ∈ R n×n associated\n",
    "with them is defined by\n",
    "Z b\n",
    "G ij =\n",
    "f i (t)f j (t) dt.\n",
    "a\n",
    "\n",
    "(a) Show that G = G T ≥ 0.\n",
    "\n",
    "(b) Show that G is singular if and only if the functions f 1 , . . . , f n are linearly dependent."
   ]
  },
  {
   "cell_type": "code",
   "execution_count": null,
   "metadata": {
    "collapsed": true
   },
   "outputs": [],
   "source": []
  }
 ],
 "metadata": {
  "kernelspec": {
   "display_name": "Python 3",
   "language": "python",
   "name": "python3"
  },
  "language_info": {
   "codemirror_mode": {
    "name": "ipython",
    "version": 3
   },
   "file_extension": ".py",
   "mimetype": "text/x-python",
   "name": "python",
   "nbconvert_exporter": "python",
   "pygments_lexer": "ipython3",
   "version": "3.6.3"
  }
 },
 "nbformat": 4,
 "nbformat_minor": 2
}
