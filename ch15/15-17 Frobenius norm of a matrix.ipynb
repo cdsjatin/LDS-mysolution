{
 "cells": [
  {
   "cell_type": "markdown",
   "metadata": {},
   "source": [
    "### 15-17 Frobenius norm of a matrix\n",
    "\n",
    "The Frobenius norm of a matrix A ∈ R n×n is defined as kAk F =\n",
    "Tr A T A. (Recall Tr is the trace of a matrix, i.e., the sum of the diagonal entries.)\n",
    "\n",
    "(a) Show that\n",
    " 1/2\n",
    "\n",
    "kAk F = \n",
    "X\n",
    "|A ij | 2 \n",
    ".\n",
    "i,j\n",
    "Thus the Frobenius norm is simply the Euclidean norm of the matrix when it is considered as an\n",
    "2\n",
    "element of R n . Note also that it is much easier to compute the Frobenius norm of a matrix than\n",
    "the (spectral) norm (i.e., maximum singular value).\n",
    "\n",
    "(b) Show that if U and V are orthogonal, then kU Ak F = kAV k F = kAk F . Thus the Frobenius norm\n",
    "is not changed by a pre- or post- orthogonal transformation.\n",
    "p\n",
    "\n",
    "(c) Show that kAk F = √ σ 1 2 + · · · + σ r 2 , where σ 1 , . . . , σ r are the singular values"
   ]
  },
  {
   "cell_type": "markdown",
   "metadata": {
    "collapsed": true
   },
   "source": [
    "### Answers\n",
    "\n",
    "derive the first property and use the first property for every other part"
   ]
  },
  {
   "cell_type": "code",
   "execution_count": null,
   "metadata": {
    "collapsed": true
   },
   "outputs": [],
   "source": []
  }
 ],
 "metadata": {
  "kernelspec": {
   "display_name": "Python 3",
   "language": "python",
   "name": "python3"
  },
  "language_info": {
   "codemirror_mode": {
    "name": "ipython",
    "version": 3
   },
   "file_extension": ".py",
   "mimetype": "text/x-python",
   "name": "python",
   "nbconvert_exporter": "python",
   "pygments_lexer": "ipython3",
   "version": "3.6.3"
  }
 },
 "nbformat": 4,
 "nbformat_minor": 2
}
