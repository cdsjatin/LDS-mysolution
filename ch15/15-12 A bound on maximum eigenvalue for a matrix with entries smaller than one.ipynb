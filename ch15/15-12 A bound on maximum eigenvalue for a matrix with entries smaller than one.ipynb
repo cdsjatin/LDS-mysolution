{
 "cells": [
  {
   "cell_type": "markdown",
   "metadata": {},
   "source": [
    "### 15-12 A bound on maximum eigenvalue for a matrix with entries smaller than one.\n",
    "\n",
    "Suppose A = A T ∈ R n×n , with |A ij | ≤ 1, i, j = 1, . . . , n. How large can λ max (A) be?"
   ]
  },
  {
   "cell_type": "code",
   "execution_count": null,
   "metadata": {
    "collapsed": true
   },
   "outputs": [],
   "source": []
  }
 ],
 "metadata": {
  "kernelspec": {
   "display_name": "Python 3",
   "language": "python",
   "name": "python3"
  },
  "language_info": {
   "codemirror_mode": {
    "name": "ipython",
    "version": 3
   },
   "file_extension": ".py",
   "mimetype": "text/x-python",
   "name": "python",
   "nbconvert_exporter": "python",
   "pygments_lexer": "ipython3",
   "version": "3.6.3"
  }
 },
 "nbformat": 4,
 "nbformat_minor": 2
}
